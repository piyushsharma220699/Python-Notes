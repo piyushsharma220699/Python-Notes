{
 "cells": [
  {
   "cell_type": "markdown",
   "metadata": {},
   "source": [
    "# FUNCTION"
   ]
  },
  {
   "cell_type": "markdown",
   "metadata": {},
   "source": [
    "A function is a block of code which only runs when it is called. The idea is to put some commonly or repeatedly done task together and make a function, so that instead of writing the same code again and again for different inputs.\n",
    "\n",
    "There are two types of functions:\n",
    "\n",
    "1. BUILT-IN FUNCTIONS: These are the functions provided by Python itself. eg: print(), type() etc.\n",
    "2. USER DEFINED FUNCTIONS: These are functions that the user creates itself."
   ]
  },
  {
   "cell_type": "markdown",
   "metadata": {},
   "source": [
    "### SYNTAX"
   ]
  },
  {
   "cell_type": "code",
   "execution_count": 18,
   "metadata": {},
   "outputs": [
    {
     "name": "stdout",
     "output_type": "stream",
     "text": [
      "The sum is:  30\n"
     ]
    }
   ],
   "source": [
    "def add(a,b): # This is creating/defining a function which takes two arguments\n",
    "    c=a+b\n",
    "    return c\n",
    "\n",
    "sum = add(10,20)  # Calling Function add (We pass 10 and 20 as actual agruments, the function returns 30 which is stored in sum)\n",
    "print(\"The sum is: \", sum)"
   ]
  },
  {
   "cell_type": "markdown",
   "metadata": {},
   "source": [
    "![Picture](Images/Function2.jpg)"
   ]
  },
  {
   "cell_type": "markdown",
   "metadata": {},
   "source": [
    "### ADVANTAGES OF FUNCTION"
   ]
  },
  {
   "cell_type": "markdown",
   "metadata": {},
   "source": [
    "1. Code Resusability\n",
    "2. It becomes easy to maintain the code.\n",
    "3. We divide the code into small tasks and create functions, so it helps in debugging too."
   ]
  },
  {
   "cell_type": "markdown",
   "metadata": {},
   "source": [
    "## RETURN STATEMENT"
   ]
  },
  {
   "cell_type": "markdown",
   "metadata": {},
   "source": [
    "A function can return a value using the return statement. Also, in python it is possible to return more than one value from a function.\n",
    "\n",
    "SYNTAX:\n",
    "\n",
    "return (variable OR expression)"
   ]
  },
  {
   "cell_type": "code",
   "execution_count": 19,
   "metadata": {},
   "outputs": [
    {
     "name": "stdout",
     "output_type": "stream",
     "text": [
      "Addition gives:  37\n"
     ]
    }
   ],
   "source": [
    "# Function returning one value\n",
    "def get_values(num1, num2):\n",
    "    addition = num1 + num2 \n",
    "    return addition\n",
    "\n",
    "a = 30\n",
    "b = 7\n",
    "\n",
    "add = get_values(a,b)\n",
    "print(\"Addition gives: \", add)"
   ]
  },
  {
   "cell_type": "code",
   "execution_count": 20,
   "metadata": {},
   "outputs": [
    {
     "name": "stdout",
     "output_type": "stream",
     "text": [
      "Addition gives:  37\n",
      "Subtraction gives:  23\n",
      "Multiplication gives:  210\n",
      "Division gives:  4.285714285714286\n"
     ]
    }
   ],
   "source": [
    "# Function returning more than one value\n",
    "def get_values(num1, num2):\n",
    "    addition = num1 + num2\n",
    "    subtraction = num1 - num2\n",
    "    multiplication = num1*num2\n",
    "    division = num1/num2\n",
    "    \n",
    "    return addition, subtraction, multiplication, division\n",
    "\n",
    "a = 30\n",
    "b = 7\n",
    "\n",
    "# To store multiple values, one needs to specify more than one variable to collect the values too\n",
    "add, sub, mul, div = get_values(a,b)\n",
    "print(\"Addition gives: \", add)\n",
    "print(\"Subtraction gives: \", sub)\n",
    "print(\"Multiplication gives: \", mul)\n",
    "print(\"Division gives: \", div)"
   ]
  },
  {
   "cell_type": "markdown",
   "metadata": {},
   "source": [
    "## TYPES OF ARGUMENTS "
   ]
  },
  {
   "cell_type": "markdown",
   "metadata": {},
   "source": [
    "There are two types of arguments:\n",
    "    1. Formal Arguments - These are the parameters present in the definition of the function\n",
    "    2. Actual Arguments - These are those arguments that we pass while calling the funtion"
   ]
  },
  {
   "cell_type": "markdown",
   "metadata": {},
   "source": [
    "![Picture](Images/Function3.jpg)"
   ]
  },
  {
   "cell_type": "markdown",
   "metadata": {},
   "source": [
    "Now, there are different types of Actual Arguments, which are given as:"
   ]
  },
  {
   "cell_type": "markdown",
   "metadata": {},
   "source": [
    "![Picture2](Images/Function4.jpg)"
   ]
  },
  {
   "cell_type": "markdown",
   "metadata": {},
   "source": [
    "### POSITIONAL ARGUMENTS"
   ]
  },
  {
   "cell_type": "code",
   "execution_count": 30,
   "metadata": {},
   "outputs": [
    {
     "data": {
      "text/plain": [
       "60"
      ]
     },
     "execution_count": 30,
     "metadata": {},
     "output_type": "execute_result"
    }
   ],
   "source": [
    "# The number of arguments and their positions in the function definition should be equal to the number and position in function call\n",
    "def add(a,b,c):\n",
    "    return a+b+c\n",
    "\n",
    "# These arguments need to be passed to the function in the same order and correct number\n",
    "# For ex: Here a gets value 10, b gets 20 and c gets 30\n",
    "add(10,20,30)"
   ]
  },
  {
   "cell_type": "markdown",
   "metadata": {},
   "source": [
    "### KEYWORD ARGUMENTS"
   ]
  },
  {
   "cell_type": "code",
   "execution_count": null,
   "metadata": {},
   "outputs": [],
   "source": []
  }
 ],
 "metadata": {
  "kernelspec": {
   "display_name": "Python 3",
   "language": "python",
   "name": "python3"
  },
  "language_info": {
   "codemirror_mode": {
    "name": "ipython",
    "version": 3
   },
   "file_extension": ".py",
   "mimetype": "text/x-python",
   "name": "python",
   "nbconvert_exporter": "python",
   "pygments_lexer": "ipython3",
   "version": "3.7.6"
  }
 },
 "nbformat": 4,
 "nbformat_minor": 4
}
