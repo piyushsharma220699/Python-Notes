{
 "cells": [
  {
   "cell_type": "markdown",
   "metadata": {},
   "source": [
    "# print() FUNCTION"
   ]
  },
  {
   "cell_type": "markdown",
   "metadata": {},
   "source": [
    "This is a built in function in which you pass 0 or more values separated by commas and it prints them on the console."
   ]
  },
  {
   "cell_type": "markdown",
   "metadata": {},
   "source": [
    "SYNTAX:\n",
    "\n",
    "    print(value1, value2, ... , valueN, end = \"\", sep = \"\", file = file, flush = flush)\n",
    "\n",
    "Here, you can pass any number of values separated by comma. Also, end, sep, file and flush are optional arguments. By default the value of end is '\\n' and the value of sep is ' '"
   ]
  },
  {
   "cell_type": "code",
   "execution_count": 28,
   "metadata": {},
   "outputs": [
    {
     "name": "stdout",
     "output_type": "stream",
     "text": [
      "\n"
     ]
    }
   ],
   "source": [
    "# USING PRINT FUNCTION WITHOUT ANY VALUE (It doesn't give any error)\n",
    "print()"
   ]
  },
  {
   "cell_type": "code",
   "execution_count": 29,
   "metadata": {},
   "outputs": [
    {
     "name": "stdout",
     "output_type": "stream",
     "text": [
      "Hello my name is Piyush\n"
     ]
    }
   ],
   "source": [
    "# USING PRINT FUNCTION WITH MULTIPLE VALUES\n",
    "print(\"Hello\",\"my\",\"name\",\"is\",\"Piyush\")"
   ]
  },
  {
   "cell_type": "markdown",
   "metadata": {},
   "source": [
    "### END ARGUMENT"
   ]
  },
  {
   "cell_type": "code",
   "execution_count": 30,
   "metadata": {},
   "outputs": [
    {
     "name": "stdout",
     "output_type": "stream",
     "text": [
      "Hala\n",
      "Madrid!\n"
     ]
    }
   ],
   "source": [
    "print(\"Hala\")\n",
    "print(\"Madrid!\")"
   ]
  },
  {
   "cell_type": "markdown",
   "metadata": {},
   "source": [
    "By default, after every print statement, python adds a new line character to it (Thus, \"Hala\" and \"Madrid!\" are printed in the same line). But what if we want to print both of them in same line (or using some other ending symbol). \n",
    "\n",
    "That is were we make the use of this optional argument called end."
   ]
  },
  {
   "cell_type": "code",
   "execution_count": 31,
   "metadata": {},
   "outputs": [
    {
     "name": "stdout",
     "output_type": "stream",
     "text": [
      "Hala Madrid!\n"
     ]
    }
   ],
   "source": [
    "print(\"Hala\", end=\" \")\n",
    "print(\"Madrid!\")"
   ]
  },
  {
   "cell_type": "code",
   "execution_count": 32,
   "metadata": {},
   "outputs": [
    {
     "name": "stdout",
     "output_type": "stream",
     "text": [
      "Hala aa Madrid!\n"
     ]
    }
   ],
   "source": [
    "print(\"Hala\", end=\" aa \")\n",
    "print(\"Madrid!\")"
   ]
  },
  {
   "cell_type": "markdown",
   "metadata": {},
   "source": [
    "Thus here, the first print statement prints \"Hala\" first, then adds the ending string \" aa \" to it, then prints \"Madrid!\" and adds the default ending (i.e. a newline character) to it."
   ]
  },
  {
   "cell_type": "markdown",
   "metadata": {},
   "source": [
    "### SEP ARGUMENT"
   ]
  },
  {
   "cell_type": "code",
   "execution_count": 33,
   "metadata": {},
   "outputs": [
    {
     "name": "stdout",
     "output_type": "stream",
     "text": [
      "Hey! I am Piyush Sharma\n"
     ]
    }
   ],
   "source": [
    "print(\"Hey!\", \"I\", \"am\", \"Piyush\", \"Sharma\")"
   ]
  },
  {
   "cell_type": "markdown",
   "metadata": {},
   "source": [
    "Whenever we print multiple strings in one print statement using comma separator, it gets printed with a ' ' between it. This is as the default value of the sep(separator) argument is ' '. If you want the separator to be something else, you can change its value."
   ]
  },
  {
   "cell_type": "code",
   "execution_count": 34,
   "metadata": {},
   "outputs": [
    {
     "name": "stdout",
     "output_type": "stream",
     "text": [
      "Hey!$$I$$am$$Piyush$$Sharma\n"
     ]
    }
   ],
   "source": [
    "print(\"Hey!\", \"I\", \"am\", \"Piyush\", \"Sharma\", sep = \"$$\")"
   ]
  },
  {
   "cell_type": "markdown",
   "metadata": {},
   "source": [
    "# input() FUNCTION"
   ]
  },
  {
   "cell_type": "markdown",
   "metadata": {},
   "source": [
    "Developers often have a need to interact with users, either to get data or to provide some sort of result. Most programs today use a dialog box as a way of asking the user to provide some type of input. While Python provides us with input() inbuilt function to read the input from the keyboard."
   ]
  },
  {
   "cell_type": "code",
   "execution_count": 40,
   "metadata": {},
   "outputs": [
    {
     "name": "stdout",
     "output_type": "stream",
     "text": [
      "Enter any Number: 786\n",
      "The number you entered is: 786\n",
      "The type of input is: <class 'str'>\n"
     ]
    }
   ],
   "source": [
    "print(\"Enter any Number:\", end =\" \")\n",
    "a = input()\n",
    "print(\"The number you entered is:\",a)\n",
    "print(\"The type of input is:\",type(a))"
   ]
  },
  {
   "cell_type": "markdown",
   "metadata": {},
   "source": [
    "However, whatever the input may be (be it float, integer or string), input function will convert it to a string. Thus the datatype of variable 'a' here is given as string."
   ]
  },
  {
   "cell_type": "markdown",
   "metadata": {},
   "source": [
    "### TYPECASTING"
   ]
  },
  {
   "cell_type": "markdown",
   "metadata": {},
   "source": [
    "Thus, we need to use typecasting in python to convert one datatype to other. Some examples are given below:"
   ]
  },
  {
   "cell_type": "code",
   "execution_count": 41,
   "metadata": {},
   "outputs": [
    {
     "name": "stdout",
     "output_type": "stream",
     "text": [
      "123\n",
      "<class 'int'>\n",
      "123.5\n",
      "<class 'float'>\n",
      "1234\n",
      "<class 'str'>\n"
     ]
    }
   ],
   "source": [
    "a1 = int(input())\n",
    "print(type(a1))\n",
    "\n",
    "a2 = float(input())\n",
    "print(type(a2))\n",
    "\n",
    "a3 = str(input())\n",
    "print(type(a3))"
   ]
  },
  {
   "cell_type": "code",
   "execution_count": null,
   "metadata": {},
   "outputs": [],
   "source": []
  }
 ],
 "metadata": {
  "kernelspec": {
   "display_name": "Python 3",
   "language": "python",
   "name": "python3"
  },
  "language_info": {
   "codemirror_mode": {
    "name": "ipython",
    "version": 3
   },
   "file_extension": ".py",
   "mimetype": "text/x-python",
   "name": "python",
   "nbconvert_exporter": "python",
   "pygments_lexer": "ipython3",
   "version": "3.7.6"
  }
 },
 "nbformat": 4,
 "nbformat_minor": 4
}
