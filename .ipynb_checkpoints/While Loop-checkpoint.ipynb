{
 "cells": [
  {
   "cell_type": "code",
   "execution_count": 1,
   "metadata": {},
   "outputs": [
    {
     "name": "stdout",
     "output_type": "stream",
     "text": [
      "Printing values of i\n",
      "i =  10\n",
      "i =  11\n",
      "i =  12\n",
      "i =  13\n",
      "i =  14\n",
      "i =  15\n",
      "i =  16\n",
      "i =  17\n",
      "i =  18\n",
      "i =  19\n",
      "Printed all the values of i\n"
     ]
    }
   ],
   "source": [
    "# WHILE loops in Python\n",
    "i = 10\n",
    "\n",
    "print(\"Printing values of i\")\n",
    "\n",
    "while i<20:\n",
    "    print(\"i = \",i)\n",
    "    i=i+1\n",
    "\n",
    "print(\"Printed all the values of i\")"
   ]
  },
  {
   "cell_type": "code",
   "execution_count": 2,
   "metadata": {},
   "outputs": [
    {
     "name": "stdout",
     "output_type": "stream",
     "text": [
      "Printing values of i\n",
      "i =  10\n",
      "i =  11\n",
      "i =  12\n",
      "i =  13\n",
      "i =  14\n",
      "i =  15\n",
      "i =  16\n",
      "i =  17\n",
      "i =  18\n",
      "i =  19\n",
      "I will get printed strictly one time at the end!\n",
      "Printed all the values of i\n"
     ]
    }
   ],
   "source": [
    "# WHILE loops with ELSE statement in Python\n",
    "i = 10\n",
    "\n",
    "print(\"Printing values of i\")\n",
    "\n",
    "while i<20:\n",
    "    print(\"i = \",i)\n",
    "    i=i+1\n",
    "else:\n",
    "    print(\"I will get printed strictly one time at the end!\")\n",
    "    \n",
    "print(\"Printed all the values of i\")"
   ]
  },
  {
   "cell_type": "code",
   "execution_count": 4,
   "metadata": {},
   "outputs": [
    {
     "name": "stdout",
     "output_type": "stream",
     "text": [
      "i =  10\n",
      "This is an infinite while loop! I will never get executed if the break statement is not there.\n"
     ]
    }
   ],
   "source": [
    "# INFINITE LOOPS in Python\n",
    "i = 10\n",
    "\n",
    "while True:\n",
    "    print(\"i = \",i)\n",
    "    if(i == 10):\n",
    "        break\n",
    "\n",
    "print(\"This is an infinite while loop! I will never get executed if the break statement is not there.\")"
   ]
  },
  {
   "cell_type": "code",
   "execution_count": 6,
   "metadata": {},
   "outputs": [
    {
     "name": "stdout",
     "output_type": "stream",
     "text": [
      "Start Of Nested Loop!\n",
      "i =  0\n",
      "j =  0\n",
      "j =  1\n",
      "j =  2\n",
      "j =  3\n",
      "j =  4\n",
      "i =  1\n",
      "j =  1\n",
      "j =  2\n",
      "j =  3\n",
      "j =  4\n",
      "i =  2\n",
      "j =  2\n",
      "j =  3\n",
      "j =  4\n",
      "i =  3\n",
      "j =  3\n",
      "j =  4\n",
      "i =  4\n",
      "j =  4\n",
      "End Of Nested Loop!\n"
     ]
    }
   ],
   "source": [
    "# NESTED WHILE LOOPS in Python\n",
    "i = 0\n",
    "j = 0\n",
    "\n",
    "print(\"Start Of Nested Loop!\")\n",
    "\n",
    "while i<5:\n",
    "    print(\"i = \",i)\n",
    "    j=i\n",
    "    \n",
    "    while j<5:\n",
    "        print(\"j = \",j)\n",
    "        j=j+1\n",
    "    \n",
    "    i=i+1\n",
    "\n",
    "print(\"End Of Nested Loop!\")"
   ]
  },
  {
   "cell_type": "code",
   "execution_count": 7,
   "metadata": {},
   "outputs": [
    {
     "name": "stdout",
     "output_type": "stream",
     "text": [
      "5\n",
      "8\n",
      "3\n",
      "4\n"
     ]
    }
   ],
   "source": [
    "list1 = [5,8,3,4]\n",
    "\n",
    "i = 0\n",
    "\n",
    "while i<len(list1):\n",
    "    print(list1[i])\n",
    "    i=i+1"
   ]
  },
  {
   "cell_type": "code",
   "execution_count": null,
   "metadata": {},
   "outputs": [],
   "source": [
    "*\n",
    "* *\n",
    "* * *\n",
    "* * * *\n",
    "* * * * *\n",
    "==============\n",
    "==============\n",
    "* * * * *\n",
    "* * * *\n",
    "* * *\n",
    "* *\n",
    "*"
   ]
  }
 ],
 "metadata": {
  "kernelspec": {
   "display_name": "Python 3",
   "language": "python",
   "name": "python3"
  },
  "language_info": {
   "codemirror_mode": {
    "name": "ipython",
    "version": 3
   },
   "file_extension": ".py",
   "mimetype": "text/x-python",
   "name": "python",
   "nbconvert_exporter": "python",
   "pygments_lexer": "ipython3",
   "version": "3.7.6"
  }
 },
 "nbformat": 4,
 "nbformat_minor": 4
}
