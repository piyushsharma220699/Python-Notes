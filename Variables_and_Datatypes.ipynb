{
 "cells": [
  {
   "cell_type": "markdown",
   "metadata": {},
   "source": [
    "# DATATYPES"
   ]
  },
  {
   "cell_type": "markdown",
   "metadata": {},
   "source": [
    "There are following datatypes defined in Python 3:\n",
    "    1. Integer\n",
    "    2. Float\n",
    "    3. String\n",
    "    4. Boolean\n",
    "    5. Lists\n",
    "    6. Tuples\n",
    "    7. Sets\n",
    "    8. Dictionary\n",
    "    9. Arrays"
   ]
  },
  {
   "cell_type": "markdown",
   "metadata": {},
   "source": [
    "# VARIABLES"
   ]
  },
  {
   "cell_type": "markdown",
   "metadata": {},
   "source": [
    "Variables need not be declared first in python. They can be used directly. Variables in python are case sensitive as most of the other programming languages."
   ]
  },
  {
   "cell_type": "markdown",
   "metadata": {},
   "source": [
    "### IMPORTANT POINTS"
   ]
  },
  {
   "cell_type": "markdown",
   "metadata": {},
   "source": [
    "1. The type of the variable can be found out by using the type(variable_name) function."
   ]
  },
  {
   "cell_type": "code",
   "execution_count": 7,
   "metadata": {},
   "outputs": [
    {
     "name": "stdout",
     "output_type": "stream",
     "text": [
      "Type of variable 'a' is:  <class 'int'>\n",
      "Type of variable 'b' is:  <class 'float'>\n",
      "Type of variable 'c' is:  <class 'str'>\n",
      "Type of variable 'd' is:  <class 'list'>\n",
      "Type of variable 'e' is:  <class 'tuple'>\n",
      "Type of variable 'f' is:  <class 'set'>\n",
      "Type of variable 'g' is:  <class 'dict'>\n"
     ]
    }
   ],
   "source": [
    "a = 10\n",
    "b = 23.45\n",
    "c = 'Hello World!'\n",
    "d = [1,2,3,4]\n",
    "e = (1,2,3,4)\n",
    "f = {1,2,3,4}\n",
    "g = {1 : 'A', 2 : 'B', 3 : 'C'}\n",
    "\n",
    "print(\"Type of variable 'a' is: \", type(a))\n",
    "print(\"Type of variable 'b' is: \", type(b))\n",
    "print(\"Type of variable 'c' is: \", type(c))\n",
    "print(\"Type of variable 'd' is: \", type(d))\n",
    "print(\"Type of variable 'e' is: \", type(e))\n",
    "print(\"Type of variable 'f' is: \", type(f))\n",
    "print(\"Type of variable 'g' is: \", type(g))"
   ]
  },
  {
   "cell_type": "markdown",
   "metadata": {},
   "source": [
    "2. In Python, the value of an integer is not restricted by the number of bits and can be expanded to the limit of the available memory."
   ]
  },
  {
   "cell_type": "code",
   "execution_count": 8,
   "metadata": {},
   "outputs": [
    {
     "name": "stdout",
     "output_type": "stream",
     "text": [
      "<class 'int'>\n"
     ]
    }
   ],
   "source": [
    "a = 10000000000000000000000000000000000000000000000000000000000000000000000000000\n",
    "print(type(a))"
   ]
  },
  {
   "cell_type": "markdown",
   "metadata": {},
   "source": [
    "3. There is no 'char' datatype in Python. A character is a string of length 1."
   ]
  },
  {
   "cell_type": "markdown",
   "metadata": {},
   "source": [
    "4. Swapping of two variables can be done easily:"
   ]
  },
  {
   "cell_type": "code",
   "execution_count": 10,
   "metadata": {},
   "outputs": [
    {
     "name": "stdout",
     "output_type": "stream",
     "text": [
      "Value of x before swap is:  10\n",
      "Value of y before swap is:  20\n",
      "Value of x after swap is:  20\n",
      "Value of y after swap is:  10\n"
     ]
    }
   ],
   "source": [
    "x = 10\n",
    "y = 20\n",
    "\n",
    "print(\"Value of x before swap is: \", x)\n",
    "print(\"Value of y before swap is: \", y)\n",
    "\n",
    "x, y = y, x\n",
    "\n",
    "print(\"Value of x after swap is: \", x)\n",
    "print(\"Value of y after swap is: \", y)"
   ]
  },
  {
   "cell_type": "code",
   "execution_count": null,
   "metadata": {},
   "outputs": [],
   "source": []
  }
 ],
 "metadata": {
  "kernelspec": {
   "display_name": "Python 3",
   "language": "python",
   "name": "python3"
  },
  "language_info": {
   "codemirror_mode": {
    "name": "ipython",
    "version": 3
   },
   "file_extension": ".py",
   "mimetype": "text/x-python",
   "name": "python",
   "nbconvert_exporter": "python",
   "pygments_lexer": "ipython3",
   "version": "3.7.6"
  }
 },
 "nbformat": 4,
 "nbformat_minor": 4
}
