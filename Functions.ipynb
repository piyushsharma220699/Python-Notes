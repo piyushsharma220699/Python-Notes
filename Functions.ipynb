{
 "cells": [
  {
   "cell_type": "markdown",
   "metadata": {},
   "source": [
    "# FUNCTION"
   ]
  },
  {
   "cell_type": "markdown",
   "metadata": {},
   "source": [
    "A function is a block of code which only runs when it is called. The idea is to put some commonly or repeatedly done task together and make a function, so that instead of writing the same code again and again for different inputs.\n",
    "\n",
    "There are two types of functions:\n",
    "\n",
    "1. BUILT-IN FUNCTIONS: These are the functions provided by Python itself. eg: print(), type() etc.\n",
    "2. USER DEFINED FUNCTIONS: These are functions that the user creates itself."
   ]
  },
  {
   "cell_type": "markdown",
   "metadata": {},
   "source": [
    "### SYNTAX"
   ]
  },
  {
   "cell_type": "code",
   "execution_count": 18,
   "metadata": {},
   "outputs": [
    {
     "name": "stdout",
     "output_type": "stream",
     "text": [
      "The sum is:  30\n"
     ]
    }
   ],
   "source": [
    "def add(a,b): # This is creating/defining a function which takes two arguments\n",
    "    c=a+b\n",
    "    return c\n",
    "\n",
    "sum = add(10,20)  # Calling Function add (We pass 10 and 20 as actual agruments, the function returns 30 which is stored in sum)\n",
    "print(\"The sum is: \", sum)"
   ]
  },
  {
   "cell_type": "markdown",
   "metadata": {},
   "source": [
    "![Picture](Images/Function2.jpg)"
   ]
  },
  {
   "cell_type": "markdown",
   "metadata": {},
   "source": [
    "### ADVANTAGES OF FUNCTION"
   ]
  },
  {
   "cell_type": "markdown",
   "metadata": {},
   "source": [
    "1. Code Resusability\n",
    "2. It becomes easy to maintain the code.\n",
    "3. We divide the code into small tasks and create functions, so it helps in debugging too."
   ]
  },
  {
   "cell_type": "markdown",
   "metadata": {},
   "source": [
    "## RETURN STATEMENT"
   ]
  },
  {
   "cell_type": "markdown",
   "metadata": {},
   "source": [
    "A function can return a value using the return statement. Also, in python it is possible to return more than one value from a function.\n",
    "\n",
    "SYNTAX:\n",
    "\n",
    "return (variable OR expression)"
   ]
  },
  {
   "cell_type": "code",
   "execution_count": 19,
   "metadata": {},
   "outputs": [
    {
     "name": "stdout",
     "output_type": "stream",
     "text": [
      "Addition gives:  37\n"
     ]
    }
   ],
   "source": [
    "# Function returning one value\n",
    "def get_values(num1, num2):\n",
    "    addition = num1 + num2 \n",
    "    return addition\n",
    "\n",
    "a = 30\n",
    "b = 7\n",
    "\n",
    "add = get_values(a,b)\n",
    "print(\"Addition gives: \", add)"
   ]
  },
  {
   "cell_type": "code",
   "execution_count": 20,
   "metadata": {},
   "outputs": [
    {
     "name": "stdout",
     "output_type": "stream",
     "text": [
      "Addition gives:  37\n",
      "Subtraction gives:  23\n",
      "Multiplication gives:  210\n",
      "Division gives:  4.285714285714286\n"
     ]
    }
   ],
   "source": [
    "# Function returning more than one value\n",
    "def get_values(num1, num2):\n",
    "    addition = num1 + num2\n",
    "    subtraction = num1 - num2\n",
    "    multiplication = num1*num2\n",
    "    division = num1/num2\n",
    "    \n",
    "    return addition, subtraction, multiplication, division\n",
    "\n",
    "a = 30\n",
    "b = 7\n",
    "\n",
    "# To store multiple values, one needs to specify more than one variable to collect the values too\n",
    "add, sub, mul, div = get_values(a,b)\n",
    "print(\"Addition gives: \", add)\n",
    "print(\"Subtraction gives: \", sub)\n",
    "print(\"Multiplication gives: \", mul)\n",
    "print(\"Division gives: \", div)"
   ]
  },
  {
   "cell_type": "markdown",
   "metadata": {},
   "source": [
    "## TYPES OF ARGUMENTS "
   ]
  },
  {
   "cell_type": "markdown",
   "metadata": {},
   "source": [
    "There are two types of arguments:\n",
    "    1. Formal Arguments - These are the parameters present in the definition of the function\n",
    "    2. Actual Arguments - These are those arguments that we pass while calling the funtion"
   ]
  },
  {
   "cell_type": "markdown",
   "metadata": {},
   "source": [
    "![Picture](Images/Function3.jpg)"
   ]
  },
  {
   "cell_type": "markdown",
   "metadata": {},
   "source": [
    "Now, there are different types of Actual Arguments, which are given as:"
   ]
  },
  {
   "cell_type": "markdown",
   "metadata": {},
   "source": [
    "![Picture2](Images/Function4.jpg)"
   ]
  },
  {
   "cell_type": "markdown",
   "metadata": {},
   "source": [
    "### POSITIONAL ARGUMENTS"
   ]
  },
  {
   "cell_type": "code",
   "execution_count": 30,
   "metadata": {},
   "outputs": [
    {
     "data": {
      "text/plain": [
       "60"
      ]
     },
     "execution_count": 30,
     "metadata": {},
     "output_type": "execute_result"
    }
   ],
   "source": [
    "# The number of arguments and their positions in the function definition should be equal to the number and position in function call\n",
    "\n",
    "def add(a,b,c):\n",
    "    return a+b+c\n",
    "\n",
    "# These arguments need to be passed to the function in the same order and correct number\n",
    "# For ex: Here a gets value 10, b gets 20 and c gets 30\n",
    "add(10,20,30)"
   ]
  },
  {
   "cell_type": "markdown",
   "metadata": {},
   "source": [
    "### KEYWORD ARGUMENTS"
   ]
  },
  {
   "cell_type": "code",
   "execution_count": 1,
   "metadata": {},
   "outputs": [
    {
     "data": {
      "text/plain": [
       "60"
      ]
     },
     "execution_count": 1,
     "metadata": {},
     "output_type": "execute_result"
    }
   ],
   "source": [
    "# The number of arguments in function definition should be equal to the number in the function call, though the position don't matter\n",
    "# The keyword argument's name and formal argument's name must match\n",
    "\n",
    "def add(a,b,c):\n",
    "    return a+b+c\n",
    "\n",
    "add(b=20,c=30,a=10)"
   ]
  },
  {
   "cell_type": "markdown",
   "metadata": {},
   "source": [
    "### DEFAULT ARGUMENTS"
   ]
  },
  {
   "cell_type": "code",
   "execution_count": 3,
   "metadata": {},
   "outputs": [
    {
     "name": "stdout",
     "output_type": "stream",
     "text": [
      "Sum in part 1:  40\n",
      "Sum in part 2:  180\n"
     ]
    }
   ],
   "source": [
    "# If we've provided default value to the formal argument in the function definition, then we need not provide any actual argument\n",
    "# If we don't provide any actual argument, it takes the default value. Else it takes the value provided by us\n",
    "\n",
    "def add(a,b,c=10):\n",
    "    return a+b+c\n",
    "\n",
    "sum1 = add(b=20,a=10)\n",
    "print(\"Sum in part 1: \", sum1)\n",
    "\n",
    "sum2 = add(40,50,90)\n",
    "print(\"Sum in part 2: \", sum2)"
   ]
  },
  {
   "cell_type": "markdown",
   "metadata": {},
   "source": [
    "### VARIABLE LENGTH ARGUMENTS"
   ]
  },
  {
   "cell_type": "code",
   "execution_count": 4,
   "metadata": {},
   "outputs": [
    {
     "name": "stdout",
     "output_type": "stream",
     "text": [
      "14\n"
     ]
    }
   ],
   "source": [
    "# These are arguments that can accept any number of values, and stores all of them in a tuple. \n",
    "# The variable length argument is written with * symbol.\n",
    "\n",
    "def add(x,y,*num):\n",
    "    sum = x + y + num[0] + num[1]\n",
    "    return sum\n",
    "\n",
    "final_sum = add(2,3,4,5)\n",
    "print(final_sum)"
   ]
  },
  {
   "cell_type": "code",
   "execution_count": null,
   "metadata": {},
   "outputs": [],
   "source": []
  }
 ],
 "metadata": {
  "kernelspec": {
   "display_name": "Python 3",
   "language": "python",
   "name": "python3"
  },
  "language_info": {
   "codemirror_mode": {
    "name": "ipython",
    "version": 3
   },
   "file_extension": ".py",
   "mimetype": "text/x-python",
   "name": "python",
   "nbconvert_exporter": "python",
   "pygments_lexer": "ipython3",
   "version": "3.7.6"
  }
 },
 "nbformat": 4,
 "nbformat_minor": 4
}
