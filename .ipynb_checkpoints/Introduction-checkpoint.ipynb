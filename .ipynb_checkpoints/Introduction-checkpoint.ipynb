{
 "cells": [
  {
   "cell_type": "markdown",
   "metadata": {},
   "source": [
    "# INTRODUCTION"
   ]
  },
  {
   "cell_type": "markdown",
   "metadata": {},
   "source": [
    "Python is a general purpose, high level, dynamic-typed, object oriented programming language which also supports functional programming. It was developed by Guido van Rossum in 1991.\n",
    "By high-level, it means that it is closer to humans than the machine code and thus it becomes easy for humans to write code in this language."
   ]
  },
  {
   "cell_type": "markdown",
   "metadata": {},
   "source": [
    "## WHAT IS A DYNAMICALLY TYPED LANGUAGE?"
   ]
  },
  {
   "cell_type": "markdown",
   "metadata": {},
   "source": [
    "By dynamically-typed, it means that the type of variable is decided during runtime. Python don't have any problem if we don't declare the type of the variable in code."
   ]
  },
  {
   "cell_type": "markdown",
   "metadata": {},
   "source": [
    "## IS PYTHON AN INTERPRETED LANGUAGE?"
   ]
  },
  {
   "attachments": {},
   "cell_type": "markdown",
   "metadata": {},
   "source": [
    "![Pic1](Images/Introduction_1.png)"
   ]
  },
  {
   "cell_type": "markdown",
   "metadata": {},
   "source": [
    "In python, we write the code which is in .py format. (For eg: something.py)\n",
    "\n",
    "Then, this .py file gets compiled first using a compiler and a bytecode gets generated (which is stored with a .pyc or .pyo format). This bytecode is a low-level set of instructions that can be executed by an interpreter. \n",
    "\n",
    "Now, this bytecode can be executed on any platform. Though, every platform must have its own Python Virtual Machine (PVM). Then this bytecode goes through this PVM where it gets interpreted using the \"Just-In-Time-Compiler\" (basically a better version of interpreter).\n",
    "\n",
    "For more info on this:\n",
    "1. https://towardsdatascience.com/how-does-python-work-6f21fd197888#:~:text=For%20the%20most%20part%2C%20Python,pyc%20or%20.\n",
    "2. https://www.youtube.com/watch?v=vZu-khdQUqI&list=PL7ersPsTyYt2dj8J0nh0APeXvkwnMknYA&index=2"
   ]
  },
  {
   "cell_type": "code",
   "execution_count": 1,
   "metadata": {},
   "outputs": [
    {
     "name": "stdout",
     "output_type": "stream",
     "text": [
      "Hello World!\n"
     ]
    }
   ],
   "source": [
    "# FIRST CODE IN PYTHON\n",
    "print(\"Hello World!\")"
   ]
  },
  {
   "cell_type": "markdown",
   "metadata": {},
   "source": [
    "## ADVANTAGES OF PYTHON"
   ]
  },
  {
   "cell_type": "markdown",
   "metadata": {},
   "source": [
    "1. Easy to Learn.\n",
    "2. Extensive library and modules support.\n",
    "3. Portable across Operating Systems.\n",
    "4. Is dynamically-typed, general-purpose, object-oriented programming language."
   ]
  },
  {
   "cell_type": "markdown",
   "metadata": {},
   "source": [
    "There are changes between Python 2.x and Python 3.x, but we will focus on the newer version of it (as it's better and was actually designed to rectify fundamental design flaws in the language, also it keeps one updated with the new technology). \n",
    "\n",
    "To know the differences:\n",
    "https://www.geeksforgeeks.org/important-differences-between-python-2-x-and-python-3-x-with-examples/"
   ]
  },
  {
   "cell_type": "markdown",
   "metadata": {},
   "source": [
    "## KEYWORDS IN PYTHON"
   ]
  },
  {
   "cell_type": "markdown",
   "metadata": {},
   "source": [
    "You can get the keywords using the help() section that Python provides. It will also tell you about what is the meaning of each keyword."
   ]
  },
  {
   "attachments": {},
   "cell_type": "markdown",
   "metadata": {},
   "source": [
    "![Pic1](Images/Introduction_2.png)"
   ]
  },
  {
   "cell_type": "code",
   "execution_count": null,
   "metadata": {},
   "outputs": [],
   "source": []
  }
 ],
 "metadata": {
  "kernelspec": {
   "display_name": "Python 3",
   "language": "python",
   "name": "python3"
  },
  "language_info": {
   "codemirror_mode": {
    "name": "ipython",
    "version": 3
   },
   "file_extension": ".py",
   "mimetype": "text/x-python",
   "name": "python",
   "nbconvert_exporter": "python",
   "pygments_lexer": "ipython3",
   "version": "3.7.6"
  }
 },
 "nbformat": 4,
 "nbformat_minor": 4
}
