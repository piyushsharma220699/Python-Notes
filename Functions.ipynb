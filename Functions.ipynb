{
 "cells": [
  {
   "cell_type": "markdown",
   "metadata": {},
   "source": [
    "A function is a block of code which only runs when it is called. The idea is to put some commonly or repeatedly done task together and make a function, so that instead of writing the same code again and again for different inputs.\n",
    "\n",
    "There are two types of functions:\n",
    "\n",
    "1. BUILT-IN FUNCTIONS:\n",
    "2. "
   ]
  },
  {
   "cell_type": "markdown",
   "metadata": {},
   "source": [
    "SYNTAX:\n",
    "    def function_name(arguments):\n",
    "        Body of the Function"
   ]
  },
  {
   "cell_type": "code",
   "execution_count": null,
   "metadata": {},
   "outputs": [],
   "source": [
    "IMPORTANT POINTS:\n",
    "\n",
    "Every function has a Name\n",
    "\n",
    "It has some arguments (which are not mandatory)\n",
    "->  If arguments are there, they can be both optional and mandatory\n",
    "-> It is compulsory to add the mandatory arguments while calling a function\n",
    "-> For the optional arguments, if they are not specified while calling the function, their default value is taken\n",
    "\n",
    "Every function can return one or more than one values."
   ]
  }
 ],
 "metadata": {
  "kernelspec": {
   "display_name": "Python 3",
   "language": "python",
   "name": "python3"
  },
  "language_info": {
   "codemirror_mode": {
    "name": "ipython",
    "version": 3
   },
   "file_extension": ".py",
   "mimetype": "text/x-python",
   "name": "python",
   "nbconvert_exporter": "python",
   "pygments_lexer": "ipython3",
   "version": "3.7.6"
  }
 },
 "nbformat": 4,
 "nbformat_minor": 4
}
